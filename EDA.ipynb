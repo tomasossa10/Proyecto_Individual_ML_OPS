{
 "cells": [
  {
   "cell_type": "markdown",
   "metadata": {},
   "source": [
    "Importamos librerías"
   ]
  },
  {
   "cell_type": "code",
   "execution_count": 1,
   "metadata": {},
   "outputs": [],
   "source": [
    "import pandas as pd\n",
    "import numpy as np\n",
    "import matplotlib.pyplot as plt\n",
    "import ast\n",
    "import seaborn as sns"
   ]
  },
  {
   "cell_type": "markdown",
   "metadata": {},
   "source": [
    "## Dataset games"
   ]
  },
  {
   "cell_type": "markdown",
   "metadata": {},
   "source": [
    "Importamos el dataset"
   ]
  },
  {
   "cell_type": "code",
   "execution_count": 2,
   "metadata": {},
   "outputs": [
    {
     "data": {
      "text/html": [
       "<div>\n",
       "<style scoped>\n",
       "    .dataframe tbody tr th:only-of-type {\n",
       "        vertical-align: middle;\n",
       "    }\n",
       "\n",
       "    .dataframe tbody tr th {\n",
       "        vertical-align: top;\n",
       "    }\n",
       "\n",
       "    .dataframe thead th {\n",
       "        text-align: right;\n",
       "    }\n",
       "</style>\n",
       "<table border=\"1\" class=\"dataframe\">\n",
       "  <thead>\n",
       "    <tr style=\"text-align: right;\">\n",
       "      <th></th>\n",
       "      <th>publisher</th>\n",
       "      <th>genres</th>\n",
       "      <th>app_name</th>\n",
       "      <th>tags</th>\n",
       "      <th>discount_price</th>\n",
       "      <th>specs</th>\n",
       "      <th>price</th>\n",
       "      <th>early_access</th>\n",
       "      <th>id</th>\n",
       "      <th>developer</th>\n",
       "      <th>metascore</th>\n",
       "      <th>year</th>\n",
       "    </tr>\n",
       "  </thead>\n",
       "  <tbody>\n",
       "    <tr>\n",
       "      <th>0</th>\n",
       "      <td>Kotoshiro</td>\n",
       "      <td>['Action', 'Casual', 'Indie', 'Simulation', 'S...</td>\n",
       "      <td>Lost Summoner Kitty</td>\n",
       "      <td>['Strategy', 'Action', 'Indie', 'Casual', 'Sim...</td>\n",
       "      <td>4.49</td>\n",
       "      <td>['Single-player']</td>\n",
       "      <td>4.99</td>\n",
       "      <td>False</td>\n",
       "      <td>761140.0</td>\n",
       "      <td>Kotoshiro</td>\n",
       "      <td>NaN</td>\n",
       "      <td>2018</td>\n",
       "    </tr>\n",
       "    <tr>\n",
       "      <th>1</th>\n",
       "      <td>彼岸领域</td>\n",
       "      <td>['Action', 'Adventure', 'Casual']</td>\n",
       "      <td>弹炸人2222</td>\n",
       "      <td>['Action', 'Adventure', 'Casual']</td>\n",
       "      <td>0.83</td>\n",
       "      <td>['Single-player']</td>\n",
       "      <td>0.99</td>\n",
       "      <td>False</td>\n",
       "      <td>767400.0</td>\n",
       "      <td>彼岸领域</td>\n",
       "      <td>NaN</td>\n",
       "      <td>2017</td>\n",
       "    </tr>\n",
       "    <tr>\n",
       "      <th>2</th>\n",
       "      <td>Stegalosaurus Game Development</td>\n",
       "      <td>['Action', 'Adventure', 'Casual', 'Indie', 'RPG']</td>\n",
       "      <td>Army of Tentacles: (Not) A Cthulhu Dating Sim:...</td>\n",
       "      <td>['Action', 'Adventure', 'RPG', 'Indie', 'Casual']</td>\n",
       "      <td>8.79</td>\n",
       "      <td>['Single-player', 'Steam Achievements']</td>\n",
       "      <td>10.99</td>\n",
       "      <td>False</td>\n",
       "      <td>770380.0</td>\n",
       "      <td>Stegalosaurus Game Development</td>\n",
       "      <td>NaN</td>\n",
       "      <td>2018</td>\n",
       "    </tr>\n",
       "    <tr>\n",
       "      <th>3</th>\n",
       "      <td>Apillo</td>\n",
       "      <td>['Adventure', 'Casual', 'Indie', 'Simulation',...</td>\n",
       "      <td>The first thrust of God - All Aircrafts</td>\n",
       "      <td>['Strategy', 'Adventure', 'Indie', 'Casual', '...</td>\n",
       "      <td>1.59</td>\n",
       "      <td>['Single-player', 'Downloadable Content', 'Ste...</td>\n",
       "      <td>1.99</td>\n",
       "      <td>False</td>\n",
       "      <td>773690.0</td>\n",
       "      <td>Apillo</td>\n",
       "      <td>NaN</td>\n",
       "      <td>2018</td>\n",
       "    </tr>\n",
       "    <tr>\n",
       "      <th>4</th>\n",
       "      <td>Tero Lunkka</td>\n",
       "      <td>['Action', 'Adventure', 'Indie']</td>\n",
       "      <td>The Warrior Of Treasures</td>\n",
       "      <td>['Action', 'Adventure', 'Indie']</td>\n",
       "      <td>0.59</td>\n",
       "      <td>['Single-player']</td>\n",
       "      <td>0.99</td>\n",
       "      <td>False</td>\n",
       "      <td>768060.0</td>\n",
       "      <td>Tero Lunkka</td>\n",
       "      <td>NaN</td>\n",
       "      <td>2018</td>\n",
       "    </tr>\n",
       "  </tbody>\n",
       "</table>\n",
       "</div>"
      ],
      "text/plain": [
       "                        publisher  \\\n",
       "0                       Kotoshiro   \n",
       "1                            彼岸领域   \n",
       "2  Stegalosaurus Game Development   \n",
       "3                          Apillo   \n",
       "4                     Tero Lunkka   \n",
       "\n",
       "                                              genres  \\\n",
       "0  ['Action', 'Casual', 'Indie', 'Simulation', 'S...   \n",
       "1                  ['Action', 'Adventure', 'Casual']   \n",
       "2  ['Action', 'Adventure', 'Casual', 'Indie', 'RPG']   \n",
       "3  ['Adventure', 'Casual', 'Indie', 'Simulation',...   \n",
       "4                   ['Action', 'Adventure', 'Indie']   \n",
       "\n",
       "                                            app_name  \\\n",
       "0                                Lost Summoner Kitty   \n",
       "1                                            弹炸人2222   \n",
       "2  Army of Tentacles: (Not) A Cthulhu Dating Sim:...   \n",
       "3            The first thrust of God - All Aircrafts   \n",
       "4                           The Warrior Of Treasures   \n",
       "\n",
       "                                                tags  discount_price  \\\n",
       "0  ['Strategy', 'Action', 'Indie', 'Casual', 'Sim...            4.49   \n",
       "1                  ['Action', 'Adventure', 'Casual']            0.83   \n",
       "2  ['Action', 'Adventure', 'RPG', 'Indie', 'Casual']            8.79   \n",
       "3  ['Strategy', 'Adventure', 'Indie', 'Casual', '...            1.59   \n",
       "4                   ['Action', 'Adventure', 'Indie']            0.59   \n",
       "\n",
       "                                               specs  price  early_access  \\\n",
       "0                                  ['Single-player']   4.99         False   \n",
       "1                                  ['Single-player']   0.99         False   \n",
       "2            ['Single-player', 'Steam Achievements']  10.99         False   \n",
       "3  ['Single-player', 'Downloadable Content', 'Ste...   1.99         False   \n",
       "4                                  ['Single-player']   0.99         False   \n",
       "\n",
       "         id                       developer  metascore  year  \n",
       "0  761140.0                       Kotoshiro        NaN  2018  \n",
       "1  767400.0                            彼岸领域        NaN  2017  \n",
       "2  770380.0  Stegalosaurus Game Development        NaN  2018  \n",
       "3  773690.0                          Apillo        NaN  2018  \n",
       "4  768060.0                     Tero Lunkka        NaN  2018  "
      ]
     },
     "execution_count": 2,
     "metadata": {},
     "output_type": "execute_result"
    }
   ],
   "source": [
    "games = pd.read_csv('datasets/games_cleaned.csv')\n",
    "games.head()"
   ]
  },
  {
   "cell_type": "code",
   "execution_count": 3,
   "metadata": {},
   "outputs": [
    {
     "name": "stdout",
     "output_type": "stream",
     "text": [
      "<class 'pandas.core.frame.DataFrame'>\n",
      "RangeIndex: 123 entries, 0 to 122\n",
      "Data columns (total 12 columns):\n",
      " #   Column          Non-Null Count  Dtype  \n",
      "---  ------          --------------  -----  \n",
      " 0   publisher       123 non-null    object \n",
      " 1   genres          123 non-null    object \n",
      " 2   app_name        123 non-null    object \n",
      " 3   tags            123 non-null    object \n",
      " 4   discount_price  123 non-null    float64\n",
      " 5   specs           123 non-null    object \n",
      " 6   price           123 non-null    float64\n",
      " 7   early_access    123 non-null    bool   \n",
      " 8   id              123 non-null    float64\n",
      " 9   developer       123 non-null    object \n",
      " 10  metascore       3 non-null      float64\n",
      " 11  year            123 non-null    int64  \n",
      "dtypes: bool(1), float64(4), int64(1), object(6)\n",
      "memory usage: 10.8+ KB\n"
     ]
    }
   ],
   "source": [
    "games.info()"
   ]
  },
  {
   "cell_type": "code",
   "execution_count": 4,
   "metadata": {},
   "outputs": [
    {
     "data": {
      "text/html": [
       "<div>\n",
       "<style scoped>\n",
       "    .dataframe tbody tr th:only-of-type {\n",
       "        vertical-align: middle;\n",
       "    }\n",
       "\n",
       "    .dataframe tbody tr th {\n",
       "        vertical-align: top;\n",
       "    }\n",
       "\n",
       "    .dataframe thead th {\n",
       "        text-align: right;\n",
       "    }\n",
       "</style>\n",
       "<table border=\"1\" class=\"dataframe\">\n",
       "  <thead>\n",
       "    <tr style=\"text-align: right;\">\n",
       "      <th></th>\n",
       "      <th>discount_price</th>\n",
       "      <th>price</th>\n",
       "      <th>id</th>\n",
       "      <th>metascore</th>\n",
       "      <th>year</th>\n",
       "    </tr>\n",
       "  </thead>\n",
       "  <tbody>\n",
       "    <tr>\n",
       "      <th>count</th>\n",
       "      <td>123.000000</td>\n",
       "      <td>123.000000</td>\n",
       "      <td>123.000000</td>\n",
       "      <td>3.000000</td>\n",
       "      <td>123.000000</td>\n",
       "    </tr>\n",
       "    <tr>\n",
       "      <th>mean</th>\n",
       "      <td>3.746585</td>\n",
       "      <td>6.038780</td>\n",
       "      <td>622583.390244</td>\n",
       "      <td>74.333333</td>\n",
       "      <td>2016.536585</td>\n",
       "    </tr>\n",
       "    <tr>\n",
       "      <th>std</th>\n",
       "      <td>4.968848</td>\n",
       "      <td>6.878159</td>\n",
       "      <td>160262.333273</td>\n",
       "      <td>8.504901</td>\n",
       "      <td>1.887373</td>\n",
       "    </tr>\n",
       "    <tr>\n",
       "      <th>min</th>\n",
       "      <td>0.490000</td>\n",
       "      <td>0.990000</td>\n",
       "      <td>72400.000000</td>\n",
       "      <td>66.000000</td>\n",
       "      <td>2000.000000</td>\n",
       "    </tr>\n",
       "    <tr>\n",
       "      <th>25%</th>\n",
       "      <td>0.690000</td>\n",
       "      <td>1.990000</td>\n",
       "      <td>491605.000000</td>\n",
       "      <td>70.000000</td>\n",
       "      <td>2016.000000</td>\n",
       "    </tr>\n",
       "    <tr>\n",
       "      <th>50%</th>\n",
       "      <td>1.790000</td>\n",
       "      <td>3.990000</td>\n",
       "      <td>691700.000000</td>\n",
       "      <td>74.000000</td>\n",
       "      <td>2017.000000</td>\n",
       "    </tr>\n",
       "    <tr>\n",
       "      <th>75%</th>\n",
       "      <td>4.365000</td>\n",
       "      <td>6.990000</td>\n",
       "      <td>762400.000000</td>\n",
       "      <td>78.500000</td>\n",
       "      <td>2017.000000</td>\n",
       "    </tr>\n",
       "    <tr>\n",
       "      <th>max</th>\n",
       "      <td>31.490000</td>\n",
       "      <td>34.990000</td>\n",
       "      <td>775690.000000</td>\n",
       "      <td>83.000000</td>\n",
       "      <td>2018.000000</td>\n",
       "    </tr>\n",
       "  </tbody>\n",
       "</table>\n",
       "</div>"
      ],
      "text/plain": [
       "       discount_price       price             id  metascore         year\n",
       "count      123.000000  123.000000     123.000000   3.000000   123.000000\n",
       "mean         3.746585    6.038780  622583.390244  74.333333  2016.536585\n",
       "std          4.968848    6.878159  160262.333273   8.504901     1.887373\n",
       "min          0.490000    0.990000   72400.000000  66.000000  2000.000000\n",
       "25%          0.690000    1.990000  491605.000000  70.000000  2016.000000\n",
       "50%          1.790000    3.990000  691700.000000  74.000000  2017.000000\n",
       "75%          4.365000    6.990000  762400.000000  78.500000  2017.000000\n",
       "max         31.490000   34.990000  775690.000000  83.000000  2018.000000"
      ]
     },
     "execution_count": 4,
     "metadata": {},
     "output_type": "execute_result"
    }
   ],
   "source": [
    "games.describe()"
   ]
  },
  {
   "cell_type": "markdown",
   "metadata": {},
   "source": [
    "Vamos a ver la distribución de juegos por año"
   ]
  },
  {
   "cell_type": "code",
   "execution_count": 23,
   "metadata": {},
   "outputs": [
    {
     "data": {
      "image/png": "[encoded data removed]",
      "text/plain": [
       "<Figure size 1000x600 with 1 Axes>"
      ]
     },
     "metadata": {},
     "output_type": "display_data"
    }
   ],
   "source": [
    "# Contar la cantidad de registros por año\n",
    "conteo_por_año = games['year'].value_counts().sort_index()\n",
    "\n",
    "# Crear el gráfico de barras\n",
    "plt.figure(figsize=(10, 6))\n",
    "plt.bar(conteo_por_año.index, conteo_por_año.values, color='skyblue')\n",
    "plt.xlabel('Año')\n",
    "plt.ylabel('Cantidad de Registros')\n",
    "plt.title('Cantidad de Registros por Año en el DataFrame \"games\"')\n",
    "\n",
    "# Establecer los valores del eje x como enteros\n",
    "plt.xticks(conteo_por_año.index.astype(int), rotation=45)\n",
    "\n",
    "plt.tight_layout()\n",
    "\n",
    "# Mostrar el gráfico\n",
    "plt.show()\n"
   ]
  },
  {
   "cell_type": "markdown",
   "metadata": {},
   "source": [
    "Función para que el formato de la columna genres sea lista y no string"
   ]
  },
  {
   "cell_type": "code",
   "execution_count": 24,
   "metadata": {},
   "outputs": [],
   "source": [
    "games['genres'] = games['genres'].apply(ast.literal_eval)"
   ]
  },
  {
   "cell_type": "markdown",
   "metadata": {},
   "source": [
    "Vamos a ver la distribución de juegos por género"
   ]
  },
  {
   "cell_type": "code",
   "execution_count": 27,
   "metadata": {},
   "outputs": [
    {
     "data": {
      "image/png": "[encoded data removed]",
      "text/plain": [
       "<Figure size 1000x800 with 1 Axes>"
      ]
     },
     "metadata": {},
     "output_type": "display_data"
    }
   ],
   "source": [
    "# Crear una lista para almacenar todos los géneros\n",
    "todos_los_generos = []\n",
    "\n",
    "# Iterar a través de la columna \"genres\" para obtener todos los géneros\n",
    "for genres_lista in games['genres']:\n",
    "    todos_los_generos.extend(genres_lista)\n",
    "\n",
    "# Contar la cantidad de veces que aparece cada género\n",
    "conteo_de_generos = pd.Series(todos_los_generos).value_counts()\n",
    "\n",
    "# Crear el gráfico de barras horizontales\n",
    "plt.figure(figsize=(10, 8))\n",
    "conteo_de_generos.plot(kind='barh', color='skyblue')\n",
    "plt.ylabel('Género')\n",
    "plt.xlabel('Cantidad de Juegos')\n",
    "plt.title('Distribución de Géneros en el DataFrame \"games\"')\n",
    "plt.tight_layout()\n",
    "\n",
    "# Mostrar el gráfico\n",
    "plt.show()"
   ]
  },
  {
   "cell_type": "markdown",
   "metadata": {},
   "source": [
    "## Dataset reviews"
   ]
  },
  {
   "cell_type": "code",
   "execution_count": 5,
   "metadata": {},
   "outputs": [
    {
     "data": {
      "text/html": [
       "<div>\n",
       "<style scoped>\n",
       "    .dataframe tbody tr th:only-of-type {\n",
       "        vertical-align: middle;\n",
       "    }\n",
       "\n",
       "    .dataframe tbody tr th {\n",
       "        vertical-align: top;\n",
       "    }\n",
       "\n",
       "    .dataframe thead th {\n",
       "        text-align: right;\n",
       "    }\n",
       "</style>\n",
       "<table border=\"1\" class=\"dataframe\">\n",
       "  <thead>\n",
       "    <tr style=\"text-align: right;\">\n",
       "      <th></th>\n",
       "      <th>item_id</th>\n",
       "      <th>user_id</th>\n",
       "      <th>recommend</th>\n",
       "      <th>polarity</th>\n",
       "      <th>sentiment_value</th>\n",
       "    </tr>\n",
       "  </thead>\n",
       "  <tbody>\n",
       "    <tr>\n",
       "      <th>0</th>\n",
       "      <td>1250</td>\n",
       "      <td>0        76561197970982479\\n1                 ...</td>\n",
       "      <td>True</td>\n",
       "      <td>0.174444</td>\n",
       "      <td>1</td>\n",
       "    </tr>\n",
       "    <tr>\n",
       "      <th>1</th>\n",
       "      <td>22200</td>\n",
       "      <td>0        76561197970982479\\n1                 ...</td>\n",
       "      <td>True</td>\n",
       "      <td>0.337500</td>\n",
       "      <td>2</td>\n",
       "    </tr>\n",
       "    <tr>\n",
       "      <th>2</th>\n",
       "      <td>43110</td>\n",
       "      <td>0        76561197970982479\\n1                 ...</td>\n",
       "      <td>True</td>\n",
       "      <td>0.050000</td>\n",
       "      <td>1</td>\n",
       "    </tr>\n",
       "    <tr>\n",
       "      <th>3</th>\n",
       "      <td>251610</td>\n",
       "      <td>0        76561197970982479\\n1                 ...</td>\n",
       "      <td>True</td>\n",
       "      <td>0.114583</td>\n",
       "      <td>1</td>\n",
       "    </tr>\n",
       "    <tr>\n",
       "      <th>4</th>\n",
       "      <td>227300</td>\n",
       "      <td>0        76561197970982479\\n1                 ...</td>\n",
       "      <td>True</td>\n",
       "      <td>-0.036111</td>\n",
       "      <td>1</td>\n",
       "    </tr>\n",
       "  </tbody>\n",
       "</table>\n",
       "</div>"
      ],
      "text/plain": [
       "   item_id                                            user_id  recommend  \\\n",
       "0     1250  0        76561197970982479\\n1                 ...       True   \n",
       "1    22200  0        76561197970982479\\n1                 ...       True   \n",
       "2    43110  0        76561197970982479\\n1                 ...       True   \n",
       "3   251610  0        76561197970982479\\n1                 ...       True   \n",
       "4   227300  0        76561197970982479\\n1                 ...       True   \n",
       "\n",
       "   polarity  sentiment_value  \n",
       "0  0.174444                1  \n",
       "1  0.337500                2  \n",
       "2  0.050000                1  \n",
       "3  0.114583                1  \n",
       "4 -0.036111                1  "
      ]
     },
     "execution_count": 5,
     "metadata": {},
     "output_type": "execute_result"
    }
   ],
   "source": [
    "reviews = pd.read_csv('datasets/reviews_sentiment.csv')\n",
    "reviews.head()"
   ]
  },
  {
   "cell_type": "code",
   "execution_count": 6,
   "metadata": {},
   "outputs": [
    {
     "name": "stdout",
     "output_type": "stream",
     "text": [
      "<class 'pandas.core.frame.DataFrame'>\n",
      "RangeIndex: 58430 entries, 0 to 58429\n",
      "Data columns (total 5 columns):\n",
      " #   Column           Non-Null Count  Dtype  \n",
      "---  ------           --------------  -----  \n",
      " 0   item_id          58430 non-null  int64  \n",
      " 1   user_id          58430 non-null  object \n",
      " 2   recommend        58430 non-null  bool   \n",
      " 3   polarity         58430 non-null  float64\n",
      " 4   sentiment_value  58430 non-null  int64  \n",
      "dtypes: bool(1), float64(1), int64(2), object(1)\n",
      "memory usage: 1.8+ MB\n"
     ]
    }
   ],
   "source": [
    "reviews.info()"
   ]
  },
  {
   "cell_type": "code",
   "execution_count": 7,
   "metadata": {},
   "outputs": [
    {
     "data": {
      "text/html": [
       "<div>\n",
       "<style scoped>\n",
       "    .dataframe tbody tr th:only-of-type {\n",
       "        vertical-align: middle;\n",
       "    }\n",
       "\n",
       "    .dataframe tbody tr th {\n",
       "        vertical-align: top;\n",
       "    }\n",
       "\n",
       "    .dataframe thead th {\n",
       "        text-align: right;\n",
       "    }\n",
       "</style>\n",
       "<table border=\"1\" class=\"dataframe\">\n",
       "  <thead>\n",
       "    <tr style=\"text-align: right;\">\n",
       "      <th></th>\n",
       "      <th>item_id</th>\n",
       "      <th>polarity</th>\n",
       "      <th>sentiment_value</th>\n",
       "    </tr>\n",
       "  </thead>\n",
       "  <tbody>\n",
       "    <tr>\n",
       "      <th>count</th>\n",
       "      <td>58430.000000</td>\n",
       "      <td>58430.000000</td>\n",
       "      <td>58430.000000</td>\n",
       "    </tr>\n",
       "    <tr>\n",
       "      <th>mean</th>\n",
       "      <td>169705.328188</td>\n",
       "      <td>0.114690</td>\n",
       "      <td>1.210234</td>\n",
       "    </tr>\n",
       "    <tr>\n",
       "      <th>std</th>\n",
       "      <td>132020.311111</td>\n",
       "      <td>0.294838</td>\n",
       "      <td>0.584614</td>\n",
       "    </tr>\n",
       "    <tr>\n",
       "      <th>min</th>\n",
       "      <td>10.000000</td>\n",
       "      <td>-1.000000</td>\n",
       "      <td>0.000000</td>\n",
       "    </tr>\n",
       "    <tr>\n",
       "      <th>25%</th>\n",
       "      <td>8930.000000</td>\n",
       "      <td>0.000000</td>\n",
       "      <td>1.000000</td>\n",
       "    </tr>\n",
       "    <tr>\n",
       "      <th>50%</th>\n",
       "      <td>218230.000000</td>\n",
       "      <td>0.059091</td>\n",
       "      <td>1.000000</td>\n",
       "    </tr>\n",
       "    <tr>\n",
       "      <th>75%</th>\n",
       "      <td>261640.000000</td>\n",
       "      <td>0.250000</td>\n",
       "      <td>2.000000</td>\n",
       "    </tr>\n",
       "    <tr>\n",
       "      <th>max</th>\n",
       "      <td>527340.000000</td>\n",
       "      <td>1.000000</td>\n",
       "      <td>2.000000</td>\n",
       "    </tr>\n",
       "  </tbody>\n",
       "</table>\n",
       "</div>"
      ],
      "text/plain": [
       "             item_id      polarity  sentiment_value\n",
       "count   58430.000000  58430.000000     58430.000000\n",
       "mean   169705.328188      0.114690         1.210234\n",
       "std    132020.311111      0.294838         0.584614\n",
       "min        10.000000     -1.000000         0.000000\n",
       "25%      8930.000000      0.000000         1.000000\n",
       "50%    218230.000000      0.059091         1.000000\n",
       "75%    261640.000000      0.250000         2.000000\n",
       "max    527340.000000      1.000000         2.000000"
      ]
     },
     "execution_count": 7,
     "metadata": {},
     "output_type": "execute_result"
    }
   ],
   "source": [
    "reviews.describe()"
   ]
  },
  {
   "cell_type": "markdown",
   "metadata": {},
   "source": [
    "Vamos a ver la distribución de las veces que se recomendaron juegos y las veces que no"
   ]
  },
  {
   "cell_type": "code",
   "execution_count": 4,
   "metadata": {},
   "outputs": [
    {
     "data": {
      "image/png": "[encoded data removed]",
      "text/plain": [
       "<Figure size 600x600 with 1 Axes>"
      ]
     },
     "metadata": {},
     "output_type": "display_data"
    }
   ],
   "source": [
    "conteo_recomendaciones = reviews['recommend'].value_counts()\n",
    "\n",
    "# Crear un gráfico de tarta\n",
    "plt.figure(figsize=(6, 6))\n",
    "plt.pie(conteo_recomendaciones, labels=conteo_recomendaciones.index, autopct='%1.1f%%', startangle=140)\n",
    "plt.title('Distribución de Recomendaciones')\n",
    "plt.axis('equal')  # Para asegurarse de que el gráfico sea un círculo\n",
    "\n",
    "# Mostrar el gráfico de tarta\n",
    "plt.show()"
   ]
  },
  {
   "cell_type": "markdown",
   "metadata": {},
   "source": [
    "Vamos a ver la distribución del sentiment_value"
   ]
  },
  {
   "cell_type": "code",
   "execution_count": 6,
   "metadata": {},
   "outputs": [
    {
     "data": {
      "image/png": "[encoded data removed]",
      "text/plain": [
       "<Figure size 640x480 with 1 Axes>"
      ]
     },
     "metadata": {},
     "output_type": "display_data"
    }
   ],
   "source": [
    "categorias = [0, 1, 2]\n",
    "conteos = [len(reviews[reviews['sentiment_value'] == cat]) for cat in categorias]\n",
    "\n",
    "# Definir las etiquetas para las categorías\n",
    "etiquetas = ['Malo', 'Neutral', 'Positivo']\n",
    "\n",
    "# Crear el gráfico de barras\n",
    "plt.bar(categorias, conteos, tick_label=etiquetas, color=['red', 'gray', 'green'])\n",
    "\n",
    "# Añadir un título y etiquetas de ejes\n",
    "plt.title('Distribución de Sentimientos')\n",
    "plt.xlabel('Sentimiento')\n",
    "plt.ylabel('Número de Revisiones')\n",
    "\n",
    "\n",
    "# Mostrar el gráfico\n",
    "plt.show()"
   ]
  },
  {
   "cell_type": "markdown",
   "metadata": {},
   "source": [
    "## Dataset items"
   ]
  },
  {
   "cell_type": "code",
   "execution_count": 8,
   "metadata": {},
   "outputs": [
    {
     "data": {
      "text/html": [
       "<div>\n",
       "<style scoped>\n",
       "    .dataframe tbody tr th:only-of-type {\n",
       "        vertical-align: middle;\n",
       "    }\n",
       "\n",
       "    .dataframe tbody tr th {\n",
       "        vertical-align: top;\n",
       "    }\n",
       "\n",
       "    .dataframe thead th {\n",
       "        text-align: right;\n",
       "    }\n",
       "</style>\n",
       "<table border=\"1\" class=\"dataframe\">\n",
       "  <thead>\n",
       "    <tr style=\"text-align: right;\">\n",
       "      <th></th>\n",
       "      <th>user_id</th>\n",
       "      <th>items_count</th>\n",
       "      <th>steam_id</th>\n",
       "      <th>items</th>\n",
       "    </tr>\n",
       "  </thead>\n",
       "  <tbody>\n",
       "    <tr>\n",
       "      <th>0</th>\n",
       "      <td>76561197970982479</td>\n",
       "      <td>277</td>\n",
       "      <td>76561197970982479</td>\n",
       "      <td>{'item_id': '10', 'item_name': 'Counter-Strike...</td>\n",
       "    </tr>\n",
       "    <tr>\n",
       "      <th>1</th>\n",
       "      <td>76561197970982479</td>\n",
       "      <td>277</td>\n",
       "      <td>76561197970982479</td>\n",
       "      <td>{'item_id': '20', 'item_name': 'Team Fortress ...</td>\n",
       "    </tr>\n",
       "    <tr>\n",
       "      <th>2</th>\n",
       "      <td>76561197970982479</td>\n",
       "      <td>277</td>\n",
       "      <td>76561197970982479</td>\n",
       "      <td>{'item_id': '30', 'item_name': 'Day of Defeat'...</td>\n",
       "    </tr>\n",
       "    <tr>\n",
       "      <th>3</th>\n",
       "      <td>76561197970982479</td>\n",
       "      <td>277</td>\n",
       "      <td>76561197970982479</td>\n",
       "      <td>{'item_id': '40', 'item_name': 'Deathmatch Cla...</td>\n",
       "    </tr>\n",
       "    <tr>\n",
       "      <th>4</th>\n",
       "      <td>76561197970982479</td>\n",
       "      <td>277</td>\n",
       "      <td>76561197970982479</td>\n",
       "      <td>{'item_id': '50', 'item_name': 'Half-Life: Opp...</td>\n",
       "    </tr>\n",
       "  </tbody>\n",
       "</table>\n",
       "</div>"
      ],
      "text/plain": [
       "             user_id  items_count           steam_id  \\\n",
       "0  76561197970982479          277  76561197970982479   \n",
       "1  76561197970982479          277  76561197970982479   \n",
       "2  76561197970982479          277  76561197970982479   \n",
       "3  76561197970982479          277  76561197970982479   \n",
       "4  76561197970982479          277  76561197970982479   \n",
       "\n",
       "                                               items  \n",
       "0  {'item_id': '10', 'item_name': 'Counter-Strike...  \n",
       "1  {'item_id': '20', 'item_name': 'Team Fortress ...  \n",
       "2  {'item_id': '30', 'item_name': 'Day of Defeat'...  \n",
       "3  {'item_id': '40', 'item_name': 'Deathmatch Cla...  \n",
       "4  {'item_id': '50', 'item_name': 'Half-Life: Opp...  "
      ]
     },
     "execution_count": 8,
     "metadata": {},
     "output_type": "execute_result"
    }
   ],
   "source": [
    "items = pd.read_csv('datasets/items_desanidado.csv')\n",
    "items.head()"
   ]
  },
  {
   "cell_type": "code",
   "execution_count": 9,
   "metadata": {},
   "outputs": [
    {
     "name": "stdout",
     "output_type": "stream",
     "text": [
      "<class 'pandas.core.frame.DataFrame'>\n",
      "RangeIndex: 5153209 entries, 0 to 5153208\n",
      "Data columns (total 4 columns):\n",
      " #   Column       Dtype \n",
      "---  ------       ----- \n",
      " 0   user_id      object\n",
      " 1   items_count  int64 \n",
      " 2   steam_id     int64 \n",
      " 3   items        object\n",
      "dtypes: int64(2), object(2)\n",
      "memory usage: 157.3+ MB\n"
     ]
    }
   ],
   "source": [
    "items.info()"
   ]
  },
  {
   "cell_type": "code",
   "execution_count": 10,
   "metadata": {},
   "outputs": [
    {
     "data": {
      "text/html": [
       "<div>\n",
       "<style scoped>\n",
       "    .dataframe tbody tr th:only-of-type {\n",
       "        vertical-align: middle;\n",
       "    }\n",
       "\n",
       "    .dataframe tbody tr th {\n",
       "        vertical-align: top;\n",
       "    }\n",
       "\n",
       "    .dataframe thead th {\n",
       "        text-align: right;\n",
       "    }\n",
       "</style>\n",
       "<table border=\"1\" class=\"dataframe\">\n",
       "  <thead>\n",
       "    <tr style=\"text-align: right;\">\n",
       "      <th></th>\n",
       "      <th>items_count</th>\n",
       "      <th>steam_id</th>\n",
       "    </tr>\n",
       "  </thead>\n",
       "  <tbody>\n",
       "    <tr>\n",
       "      <th>count</th>\n",
       "      <td>5.153209e+06</td>\n",
       "      <td>5.153209e+06</td>\n",
       "    </tr>\n",
       "    <tr>\n",
       "      <th>mean</th>\n",
       "      <td>3.147229e+02</td>\n",
       "      <td>7.656120e+16</td>\n",
       "    </tr>\n",
       "    <tr>\n",
       "      <th>std</th>\n",
       "      <td>6.933596e+02</td>\n",
       "      <td>3.916645e+07</td>\n",
       "    </tr>\n",
       "    <tr>\n",
       "      <th>min</th>\n",
       "      <td>1.000000e+00</td>\n",
       "      <td>7.656120e+16</td>\n",
       "    </tr>\n",
       "    <tr>\n",
       "      <th>25%</th>\n",
       "      <td>7.200000e+01</td>\n",
       "      <td>7.656120e+16</td>\n",
       "    </tr>\n",
       "    <tr>\n",
       "      <th>50%</th>\n",
       "      <td>1.380000e+02</td>\n",
       "      <td>7.656120e+16</td>\n",
       "    </tr>\n",
       "    <tr>\n",
       "      <th>75%</th>\n",
       "      <td>2.760000e+02</td>\n",
       "      <td>7.656120e+16</td>\n",
       "    </tr>\n",
       "    <tr>\n",
       "      <th>max</th>\n",
       "      <td>7.762000e+03</td>\n",
       "      <td>7.656120e+16</td>\n",
       "    </tr>\n",
       "  </tbody>\n",
       "</table>\n",
       "</div>"
      ],
      "text/plain": [
       "        items_count      steam_id\n",
       "count  5.153209e+06  5.153209e+06\n",
       "mean   3.147229e+02  7.656120e+16\n",
       "std    6.933596e+02  3.916645e+07\n",
       "min    1.000000e+00  7.656120e+16\n",
       "25%    7.200000e+01  7.656120e+16\n",
       "50%    1.380000e+02  7.656120e+16\n",
       "75%    2.760000e+02  7.656120e+16\n",
       "max    7.762000e+03  7.656120e+16"
      ]
     },
     "execution_count": 10,
     "metadata": {},
     "output_type": "execute_result"
    }
   ],
   "source": [
    "items.describe()"
   ]
  }
 ],
 "metadata": {
  "kernelspec": {
   "display_name": "Python 3",
   "language": "python",
   "name": "python3"
  },
  "language_info": {
   "codemirror_mode": {
    "name": "ipython",
    "version": 3
   },
   "file_extension": ".py",
   "mimetype": "text/x-python",
   "name": "python",
   "nbconvert_exporter": "python",
   "pygments_lexer": "ipython3",
   "version": "3.11.1"
  },
  "orig_nbformat": 4
 },
 "nbformat": 4,
 "nbformat_minor": 2
}
